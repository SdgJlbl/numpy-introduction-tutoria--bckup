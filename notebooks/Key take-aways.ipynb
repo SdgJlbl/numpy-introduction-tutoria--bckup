{
 "cells": [
  {
   "cell_type": "markdown",
   "source": [
    "# Key take-aways\n",
    "\n",
    "- Don't use `for` loops with NumPy arrays!\n",
    "- Once your data is loaded in a NumPy array, don't convert it back to a Python list!\n",
    "- If your code gets very slow, you are probably making a copy of your data without realizing it."
   ],
   "metadata": {
    "collapsed": false
   }
  },
  {
   "cell_type": "code",
   "execution_count": null,
   "outputs": [],
   "source": [],
   "metadata": {
    "collapsed": false
   }
  }
 ],
 "metadata": {
  "kernelspec": {
   "display_name": "Python 3",
   "language": "python",
   "name": "python3"
  },
  "language_info": {
   "codemirror_mode": {
    "name": "ipython",
    "version": 2
   },
   "file_extension": ".py",
   "mimetype": "text/x-python",
   "name": "python",
   "nbconvert_exporter": "python",
   "pygments_lexer": "ipython2",
   "version": "2.7.6"
  }
 },
 "nbformat": 4,
 "nbformat_minor": 0
}
